{
 "cells": [
  {
   "cell_type": "code",
   "execution_count": null,
   "id": "435fe6e7",
   "metadata": {},
   "outputs": [
    {
     "name": "stdout",
     "output_type": "stream",
     "text": [
      "✅ Dataset loaded successfully\n"
     ]
    }
   ],
   "source": [
    "# Phase 1: Data Collection and Preparation — Estonia Passenger Dataset\n",
    "\n",
    "import pandas as pd\n",
    "import pandas as pd\n",
    "import matplotlib.pyplot as plt\n",
    "import seaborn as sns\n",
    "import pandas as pd\n",
    "from sklearn.preprocessing import LabelEncoder, StandardScaler\n",
    "import pandas as pd\n",
    "from sklearn.model_selection import train_test_split\n",
    "from sklearn.linear_model import LogisticRegression\n",
    "from sklearn.tree import DecisionTreeClassifier\n",
    "from sklearn.ensemble import RandomForestClassifier, GradientBoostingClassifier\n",
    "from sklearn.metrics import accuracy_score, precision_score, recall_score, f1_score, roc_auc_score, confusion_matrix\n",
    "import joblib\n",
    "\n",
    "\n",
    "# -----------------------------\n",
    "# Task 1.1: Load the dataset\n",
    "# -----------------------------\n",
    "df = pd.read_csv(\"C:\\\\Users\\\\USER\\\\Desktop\\\\Testing\\\\ML_work\\\\Estonia\\\\estonia-passenger-list.csv\")  # Replace with actual path if needed\n",
    "print(\"✅ Dataset loaded successfully\")\n"
   ]
  },
  {
   "cell_type": "code",
   "execution_count": 4,
   "id": "d5545d98",
   "metadata": {},
   "outputs": [
    {
     "name": "stdout",
     "output_type": "stream",
     "text": [
      "\n",
      "📊 Dataset Overview:\n",
      "Shape: (989, 8)\n",
      "<class 'pandas.core.frame.DataFrame'>\n",
      "RangeIndex: 989 entries, 0 to 988\n",
      "Data columns (total 8 columns):\n",
      " #   Column       Non-Null Count  Dtype \n",
      "---  ------       --------------  ----- \n",
      " 0   PassengerId  989 non-null    int64 \n",
      " 1   Country      989 non-null    object\n",
      " 2   Firstname    989 non-null    object\n",
      " 3   Lastname     989 non-null    object\n",
      " 4   Sex          989 non-null    object\n",
      " 5   Age          989 non-null    int64 \n",
      " 6   Category     989 non-null    object\n",
      " 7   Survived     989 non-null    int64 \n",
      "dtypes: int64(3), object(5)\n",
      "memory usage: 61.9+ KB\n",
      "None\n",
      "        PassengerId Country Firstname   Lastname  Sex         Age Category  \\\n",
      "count    989.000000     989       989        989  989  989.000000      989   \n",
      "unique          NaN      16       849        774    2         NaN        2   \n",
      "top             NaN  Sweden     RAIVO  ANDERSSON    M         NaN        P   \n",
      "freq            NaN     550         8         15  503         NaN      796   \n",
      "mean     494.992922     NaN       NaN        NaN  NaN   44.575329      NaN   \n",
      "std      285.643660     NaN       NaN        NaN  NaN   17.235146      NaN   \n",
      "min        1.000000     NaN       NaN        NaN  NaN    0.000000      NaN   \n",
      "25%      248.000000     NaN       NaN        NaN  NaN   30.000000      NaN   \n",
      "50%      495.000000     NaN       NaN        NaN  NaN   44.000000      NaN   \n",
      "75%      742.000000     NaN       NaN        NaN  NaN   59.000000      NaN   \n",
      "max      989.000000     NaN       NaN        NaN  NaN   87.000000      NaN   \n",
      "\n",
      "          Survived  \n",
      "count   989.000000  \n",
      "unique         NaN  \n",
      "top            NaN  \n",
      "freq           NaN  \n",
      "mean      0.138524  \n",
      "std       0.345624  \n",
      "min       0.000000  \n",
      "25%       0.000000  \n",
      "50%       0.000000  \n",
      "75%       0.000000  \n",
      "max       1.000000  \n",
      "   PassengerId  Country        Firstname  Lastname Sex  Age Category  Survived\n",
      "0            1   Sweden      ARVID KALLE     AADLI   M   62        P         0\n",
      "1            2  Estonia              LEA   AALISTE   F   22        C         0\n",
      "2            3  Estonia             AIRI   AAVASTE   F   21        C         0\n",
      "3            4   Sweden             JURI     AAVIK   M   53        C         0\n",
      "4            5   Sweden  BRITTA ELISABET  AHLSTROM   F   55        P         0\n"
     ]
    }
   ],
   "source": [
    "\n",
    "# -----------------------------\n",
    "# Task 1.2: Inspect the data\n",
    "# -----------------------------\n",
    "print(\"\\n📊 Dataset Overview:\")\n",
    "print(f\"Shape: {df.shape}\")\n",
    "print(df.info())\n",
    "print(df.describe(include='all'))\n",
    "print(df.head())\n"
   ]
  },
  {
   "cell_type": "code",
   "execution_count": 5,
   "id": "f7e1c105",
   "metadata": {},
   "outputs": [
    {
     "name": "stdout",
     "output_type": "stream",
     "text": [
      "\n",
      "🔍 Missing Values:\n",
      " PassengerId    0\n",
      "Country        0\n",
      "Firstname      0\n",
      "Lastname       0\n",
      "Sex            0\n",
      "Age            0\n",
      "Category       0\n",
      "Survived       0\n",
      "dtype: int64\n"
     ]
    }
   ],
   "source": [
    "# -----------------------------\n",
    "# Task 1.3: Handle missing values\n",
    "# -----------------------------\n",
    "missing = df.isnull().sum()\n",
    "print(\"\\n🔍 Missing Values:\\n\", missing)"
   ]
  },
  {
   "cell_type": "code",
   "execution_count": 6,
   "id": "cb20dcee",
   "metadata": {},
   "outputs": [
    {
     "name": "stdout",
     "output_type": "stream",
     "text": [
      "✅ Missing values handled\n"
     ]
    },
    {
     "name": "stderr",
     "output_type": "stream",
     "text": [
      "C:\\Users\\USER\\AppData\\Local\\Temp\\ipykernel_6908\\878319973.py:2: FutureWarning: A value is trying to be set on a copy of a DataFrame or Series through chained assignment using an inplace method.\n",
      "The behavior will change in pandas 3.0. This inplace method will never work because the intermediate object on which we are setting values always behaves as a copy.\n",
      "\n",
      "For example, when doing 'df[col].method(value, inplace=True)', try using 'df.method({col: value}, inplace=True)' or df[col] = df[col].method(value) instead, to perform the operation inplace on the original object.\n",
      "\n",
      "\n",
      "  df[\"Age\"].fillna(df[\"Age\"].median(), inplace=True)\n",
      "C:\\Users\\USER\\AppData\\Local\\Temp\\ipykernel_6908\\878319973.py:3: FutureWarning: A value is trying to be set on a copy of a DataFrame or Series through chained assignment using an inplace method.\n",
      "The behavior will change in pandas 3.0. This inplace method will never work because the intermediate object on which we are setting values always behaves as a copy.\n",
      "\n",
      "For example, when doing 'df[col].method(value, inplace=True)', try using 'df.method({col: value}, inplace=True)' or df[col] = df[col].method(value) instead, to perform the operation inplace on the original object.\n",
      "\n",
      "\n",
      "  df[\"Sex\"].fillna(\"Unknown\", inplace=True)\n",
      "C:\\Users\\USER\\AppData\\Local\\Temp\\ipykernel_6908\\878319973.py:4: FutureWarning: A value is trying to be set on a copy of a DataFrame or Series through chained assignment using an inplace method.\n",
      "The behavior will change in pandas 3.0. This inplace method will never work because the intermediate object on which we are setting values always behaves as a copy.\n",
      "\n",
      "For example, when doing 'df[col].method(value, inplace=True)', try using 'df.method({col: value}, inplace=True)' or df[col] = df[col].method(value) instead, to perform the operation inplace on the original object.\n",
      "\n",
      "\n",
      "  df[\"Survived\"].fillna(0, inplace=True)\n"
     ]
    }
   ],
   "source": [
    "# Fill missing values (basic strategy)\n",
    "df[\"Age\"].fillna(df[\"Age\"].median(), inplace=True)\n",
    "df[\"Sex\"].fillna(\"Unknown\", inplace=True)\n",
    "df[\"Survived\"].fillna(0, inplace=True)\n",
    "df.fillna(\"Unknown\", inplace=True)\n",
    "print(\"✅ Missing values handled\")"
   ]
  },
  {
   "cell_type": "code",
   "execution_count": 7,
   "id": "4fc847c7",
   "metadata": {},
   "outputs": [
    {
     "name": "stdout",
     "output_type": "stream",
     "text": [
      "\n",
      "🧹 Duplicate rows found: 0\n",
      "✅ Duplicates removed\n"
     ]
    }
   ],
   "source": [
    "\n",
    "# -----------------------------\n",
    "# Task 1.4: Remove duplicates\n",
    "# -----------------------------\n",
    "duplicates = df.duplicated().sum()\n",
    "print(f\"\\n🧹 Duplicate rows found: {duplicates}\")\n",
    "df.drop_duplicates(inplace=True)\n",
    "print(\"✅ Duplicates removed\")\n"
   ]
  },
  {
   "cell_type": "code",
   "execution_count": 8,
   "id": "fab29653",
   "metadata": {},
   "outputs": [
    {
     "name": "stdout",
     "output_type": "stream",
     "text": [
      "✅ Data types and categories cleaned\n",
      "✅ Cleaned dataset saved as 'estonia_cleaned.csv'\n"
     ]
    }
   ],
   "source": [
    "# -----------------------------\n",
    "# Task 1.5: Validate and clean data types\n",
    "# -----------------------------\n",
    "# Convert Age and Survived to numeric\n",
    "df[\"Age\"] = pd.to_numeric(df[\"Age\"], errors=\"coerce\")\n",
    "df[\"Survived\"] = pd.to_numeric(df[\"Survived\"], errors=\"coerce\")\n",
    "\n",
    "# Standardize categorical values\n",
    "df[\"Sex\"] = df[\"Sex\"].str.strip().str.capitalize()\n",
    "df[\"Category\"] = df[\"Category\"].str.upper().map({\"C\": \"Crew\", \"P\": \"Passenger\"})\n",
    "print(\"✅ Data types and categories cleaned\")\n",
    "\n",
    "# -----------------------------\n",
    "# Task 1.6: Save cleaned dataset\n",
    "# -----------------------------\n",
    "df.to_csv(\"estonia_cleaned.csv\", index=False)\n",
    "print(\"✅ Cleaned dataset saved as 'estonia_cleaned.csv'\")\n"
   ]
  },
  {
   "cell_type": "code",
   "execution_count": 10,
   "id": "ef1ac9ba",
   "metadata": {},
   "outputs": [
    {
     "name": "stdout",
     "output_type": "stream",
     "text": [
      "✅ Cleaned dataset loaded\n"
     ]
    }
   ],
   "source": [
    "# Phase 2: Exploratory Data Analysis — Estonia Passenger Dataset\n",
    "# Load cleaned dataset\n",
    "df = pd.read_csv(\"estonia_cleaned.csv\")\n",
    "print(\"✅ Cleaned dataset loaded\")"
   ]
  },
  {
   "cell_type": "code",
   "execution_count": 11,
   "id": "d861b82e",
   "metadata": {},
   "outputs": [
    {
     "name": "stdout",
     "output_type": "stream",
     "text": [
      "\n",
      "📊 Age Distribution:\n",
      "count    989.000000\n",
      "mean      44.575329\n",
      "std       17.235146\n",
      "min        0.000000\n",
      "25%       30.000000\n",
      "50%       44.000000\n",
      "75%       59.000000\n",
      "max       87.000000\n",
      "Name: Age, dtype: float64\n"
     ]
    },
    {
     "data": {
      "image/png": "[encoded data removed]",
      "text/plain": [
       "<Figure size 1000x500 with 1 Axes>"
      ]
     },
     "metadata": {},
     "output_type": "display_data"
    }
   ],
   "source": [
    "# -----------------------------\n",
    "# Task 2.1: Understand feature distributions\n",
    "# -----------------------------\n",
    "print(\"\\n📊 Age Distribution:\")\n",
    "print(df[\"Age\"].describe())\n",
    "\n",
    "plt.figure(figsize=(10, 5))\n",
    "sns.histplot(df[\"Age\"], bins=30, kde=True, color=\"skyblue\")\n",
    "plt.title(\"Age Distribution of Passengers and Crew\")\n",
    "plt.xlabel(\"Age\")\n",
    "plt.ylabel(\"Count\")\n",
    "plt.tight_layout()\n",
    "plt.show()\n"
   ]
  },
  {
   "cell_type": "code",
   "execution_count": 12,
   "id": "6067f2be",
   "metadata": {},
   "outputs": [
    {
     "name": "stdout",
     "output_type": "stream",
     "text": [
      "\n",
      "🛟 Overall Survival Rate:\n",
      "Survived\n",
      "0    86.147624\n",
      "1    13.852376\n",
      "Name: proportion, dtype: float64\n"
     ]
    },
    {
     "name": "stderr",
     "output_type": "stream",
     "text": [
      "C:\\Users\\USER\\AppData\\Local\\Temp\\ipykernel_6908\\491995317.py:9: FutureWarning: \n",
      "\n",
      "Passing `palette` without assigning `hue` is deprecated and will be removed in v0.14.0. Assign the `x` variable to `hue` and set `legend=False` for the same effect.\n",
      "\n",
      "  sns.countplot(x=\"Survived\", data=df, palette=\"Set2\")\n"
     ]
    },
    {
     "data": {
      "image/png": "[encoded data removed]",
      "text/plain": [
       "<Figure size 600x400 with 1 Axes>"
      ]
     },
     "metadata": {},
     "output_type": "display_data"
    }
   ],
   "source": [
    "# -----------------------------\n",
    "# Task 2.2: Survival rate analysis\n",
    "# -----------------------------\n",
    "survival_rate = df[\"Survived\"].value_counts(normalize=True) * 100\n",
    "print(\"\\n🛟 Overall Survival Rate:\")\n",
    "print(survival_rate)\n",
    "\n",
    "plt.figure(figsize=(6, 4))\n",
    "sns.countplot(x=\"Survived\", data=df, palette=\"Set2\")\n",
    "plt.title(\"Survival Outcome\")\n",
    "plt.xticks([0, 1], [\"Did Not Survive\", \"Survived\"])\n",
    "plt.ylabel(\"Number of People\")\n",
    "plt.tight_layout()\n",
    "plt.show()"
   ]
  },
  {
   "cell_type": "code",
   "execution_count": 13,
   "id": "a2027da7",
   "metadata": {},
   "outputs": [
    {
     "name": "stdout",
     "output_type": "stream",
     "text": [
      "\n",
      "🧍 Survival Rate by Gender:\n",
      "Sex\n",
      "F     5.555556\n",
      "M    21.868787\n",
      "Name: Survived, dtype: float64\n"
     ]
    },
    {
     "name": "stderr",
     "output_type": "stream",
     "text": [
      "C:\\Users\\USER\\AppData\\Local\\Temp\\ipykernel_6908\\1179179385.py:9: FutureWarning: \n",
      "\n",
      "Passing `palette` without assigning `hue` is deprecated and will be removed in v0.14.0. Assign the `x` variable to `hue` and set `legend=False` for the same effect.\n",
      "\n",
      "  sns.barplot(x=gender_survival.index, y=gender_survival.values, palette=\"coolwarm\")\n"
     ]
    },
    {
     "data": {
      "image/png": "[encoded data removed]",
      "text/plain": [
       "<Figure size 600x400 with 1 Axes>"
      ]
     },
     "metadata": {},
     "output_type": "display_data"
    }
   ],
   "source": [
    "# -----------------------------\n",
    "# Task 2.3: Survival by gender\n",
    "# -----------------------------\n",
    "gender_survival = df.groupby(\"Sex\")[\"Survived\"].mean() * 100\n",
    "print(\"\\n🧍 Survival Rate by Gender:\")\n",
    "print(gender_survival)\n",
    "\n",
    "plt.figure(figsize=(6, 4))\n",
    "sns.barplot(x=gender_survival.index, y=gender_survival.values, palette=\"coolwarm\")\n",
    "plt.title(\"Survival Rate by Gender\")\n",
    "plt.ylabel(\"Survival Rate (%)\")\n",
    "plt.tight_layout()\n",
    "plt.show()\n"
   ]
  },
  {
   "cell_type": "code",
   "execution_count": 14,
   "id": "bea8336b",
   "metadata": {},
   "outputs": [
    {
     "name": "stdout",
     "output_type": "stream",
     "text": [
      "\n",
      "🧑‍✈️ Survival Rate by Category:\n",
      "Category\n",
      "Crew         20.207254\n",
      "Passenger    12.311558\n",
      "Name: Survived, dtype: float64\n"
     ]
    },
    {
     "name": "stderr",
     "output_type": "stream",
     "text": [
      "C:\\Users\\USER\\AppData\\Local\\Temp\\ipykernel_6908\\4229788013.py:9: FutureWarning: \n",
      "\n",
      "Passing `palette` without assigning `hue` is deprecated and will be removed in v0.14.0. Assign the `x` variable to `hue` and set `legend=False` for the same effect.\n",
      "\n",
      "  sns.barplot(x=category_survival.index, y=category_survival.values, palette=\"viridis\")\n"
     ]
    },
    {
     "data": {
      "image/png": "[encoded data removed]",
      "text/plain": [
       "<Figure size 600x400 with 1 Axes>"
      ]
     },
     "metadata": {},
     "output_type": "display_data"
    }
   ],
   "source": [
    "\n",
    "# -----------------------------\n",
    "# Task 2.4: Survival by category (Passenger vs Crew)\n",
    "# -----------------------------\n",
    "category_survival = df.groupby(\"Category\")[\"Survived\"].mean() * 100\n",
    "print(\"\\n🧑‍✈️ Survival Rate by Category:\")\n",
    "print(category_survival)\n",
    "\n",
    "plt.figure(figsize=(6, 4))\n",
    "sns.barplot(x=category_survival.index, y=category_survival.values, palette=\"viridis\")\n",
    "plt.title(\"Survival Rate by Role\")\n",
    "plt.ylabel(\"Survival Rate (%)\")\n",
    "plt.tight_layout()\n",
    "plt.show()"
   ]
  },
  {
   "cell_type": "code",
   "execution_count": 15,
   "id": "139bbf5f",
   "metadata": {},
   "outputs": [
    {
     "data": {
      "image/png": "[encoded data removed]",
      "text/plain": [
       "<Figure size 1000x500 with 1 Axes>"
      ]
     },
     "metadata": {},
     "output_type": "display_data"
    }
   ],
   "source": [
    "# -----------------------------\n",
    "# Task 2.5: Age vs Survival\n",
    "# -----------------------------\n",
    "plt.figure(figsize=(10, 5))\n",
    "sns.histplot(data=df, x=\"Age\", hue=\"Survived\", multiple=\"stack\", bins=30, palette=\"Set1\")\n",
    "plt.title(\"Age Distribution by Survival Outcome\")\n",
    "plt.xlabel(\"Age\")\n",
    "plt.ylabel(\"Count\")\n",
    "plt.tight_layout()\n",
    "plt.show()\n"
   ]
  },
  {
   "cell_type": "code",
   "execution_count": 16,
   "id": "356cade5",
   "metadata": {},
   "outputs": [
    {
     "name": "stdout",
     "output_type": "stream",
     "text": [
      "✅ Cleaned dataset loaded\n"
     ]
    }
   ],
   "source": [
    "# Phase 3: Data Preprocessing — Estonia Passenger Dataset\n",
    "# -----------------------------\n",
    "# Task 3.1: Load cleaned dataset\n",
    "# -----------------------------\n",
    "df = pd.read_csv(\"estonia_cleaned.csv\")\n",
    "print(\"✅ Cleaned dataset loaded\")\n",
    "\n"
   ]
  },
  {
   "cell_type": "code",
   "execution_count": 19,
   "id": "9e9a5a7c",
   "metadata": {},
   "outputs": [
    {
     "name": "stdout",
     "output_type": "stream",
     "text": [
      "✅ Categorical variables encoded\n"
     ]
    }
   ],
   "source": [
    "# -----------------------------\n",
    "# Task 3.2: Encode categorical variables\n",
    "# -----------------------------\n",
    "# Encode 'Sex' column\n",
    "sex_encoder = LabelEncoder()\n",
    "df[\"Sex_encoded\"] = sex_encoder.fit_transform(df[\"Sex\"])\n",
    "\n",
    "# Encode 'Category' column (Crew/Passenger)\n",
    "category_encoder = LabelEncoder()\n",
    "df[\"Category_encoded\"] = category_encoder.fit_transform(df[\"Category\"])\n",
    "\n",
    "# Encode 'Country' (optional — high cardinality)\n",
    "if df[\"Country\"].nunique() < 20:\n",
    "    country_encoder = LabelEncoder()\n",
    "    df[\"Country_encoded\"] = country_encoder.fit_transform(df[\"Country\"])\n",
    "else:\n",
    "    df[\"Country_encoded\"] = 0  # or drop if too sparse\n",
    "\n",
    "print(\"✅ Categorical variables encoded\")"
   ]
  },
  {
   "cell_type": "code",
   "execution_count": 20,
   "id": "c2d60f7c",
   "metadata": {},
   "outputs": [
    {
     "name": "stdout",
     "output_type": "stream",
     "text": [
      "📊 Feature matrix shape: (989, 4)\n",
      "🎯 Target vector shape: (989,)\n"
     ]
    }
   ],
   "source": [
    "# -----------------------------\n",
    "# Task 3.3: Select features for modeling\n",
    "# -----------------------------\n",
    "features = [\n",
    "    \"Age\",\n",
    "    \"Sex_encoded\",\n",
    "    \"Category_encoded\",\n",
    "    \"Country_encoded\"\n",
    "]\n",
    "\n",
    "X = df[features]\n",
    "y = df[\"Survived\"]\n",
    "\n",
    "print(f\"📊 Feature matrix shape: {X.shape}\")\n",
    "print(f\"🎯 Target vector shape: {y.shape}\")\n",
    "\n"
   ]
  },
  {
   "cell_type": "code",
   "execution_count": 21,
   "id": "16aabded",
   "metadata": {},
   "outputs": [
    {
     "name": "stdout",
     "output_type": "stream",
     "text": [
      "✅ Missing values in features handled\n"
     ]
    },
    {
     "name": "stderr",
     "output_type": "stream",
     "text": [
      "C:\\Users\\USER\\AppData\\Local\\Temp\\ipykernel_6908\\1873272605.py:4: SettingWithCopyWarning: \n",
      "A value is trying to be set on a copy of a slice from a DataFrame\n",
      "\n",
      "See the caveats in the documentation: https://pandas.pydata.org/pandas-docs/stable/user_guide/indexing.html#returning-a-view-versus-a-copy\n",
      "  X.fillna(X.median(), inplace=True)\n"
     ]
    }
   ],
   "source": [
    "# -----------------------------\n",
    "# Task 3.4: Handle missing values in features\n",
    "# -----------------------------\n",
    "X.fillna(X.median(), inplace=True)\n",
    "print(\"✅ Missing values in features handled\")"
   ]
  },
  {
   "cell_type": "code",
   "execution_count": 22,
   "id": "532fe69c",
   "metadata": {},
   "outputs": [
    {
     "name": "stdout",
     "output_type": "stream",
     "text": [
      "✅ Features scaled\n"
     ]
    }
   ],
   "source": [
    "\n",
    "# -----------------------------\n",
    "# Task 3.5: Scale numerical features\n",
    "# -----------------------------\n",
    "scaler = StandardScaler()\n",
    "X_scaled = scaler.fit_transform(X)\n",
    "\n",
    "# Convert back to DataFrame for readability\n",
    "X_scaled_df = pd.DataFrame(X_scaled, columns=features)\n",
    "print(\"✅ Features scaled\")\n"
   ]
  },
  {
   "cell_type": "code",
   "execution_count": 23,
   "id": "2cab3675",
   "metadata": {},
   "outputs": [
    {
     "name": "stdout",
     "output_type": "stream",
     "text": [
      "✅ Preprocessed dataset saved as 'estonia_preprocessed.csv'\n"
     ]
    }
   ],
   "source": [
    "# -----------------------------\n",
    "# Task 3.6: Save preprocessed data\n",
    "# -----------------------------\n",
    "X_scaled_df[\"Survived\"] = y.values\n",
    "X_scaled_df.to_csv(\"estonia_preprocessed.csv\", index=False)\n",
    "print(\"✅ Preprocessed dataset saved as 'estonia_preprocessed.csv'\")\n"
   ]
  },
  {
   "cell_type": "code",
   "execution_count": 34,
   "id": "afdccf9f",
   "metadata": {},
   "outputs": [
    {
     "data": {
      "text/plain": [
       "['preprocess_meta.pkl']"
      ]
     },
     "execution_count": 34,
     "metadata": {},
     "output_type": "execute_result"
    }
   ],
   "source": [
    "import joblib\n",
    "meta = {\n",
    "    \"defaults\": {\"Age\": 41.0, \"Sex_encoded\": 1, \"Category_encoded\": 0, \"Country_encoded\": 0},\n",
    "    \"country_map\": {\"Sweden\": 1, \"Estonia\": 2, \"Unknown\": 0}\n",
    "}\n",
    "joblib.dump(meta, \"preprocess_meta.pkl\")\n"
   ]
  },
  {
   "cell_type": "code",
   "execution_count": 35,
   "id": "2c19c07a",
   "metadata": {},
   "outputs": [
    {
     "name": "stdout",
     "output_type": "stream",
     "text": [
      "✅ Loaded cleaned dataset\n",
      "✅ Saved preprocessed dataset\n",
      "✅ Saved preprocess metadata as 'preprocess_meta.pkl'\n"
     ]
    },
    {
     "name": "stderr",
     "output_type": "stream",
     "text": [
      "C:\\Users\\USER\\AppData\\Local\\Temp\\ipykernel_6908\\1293082245.py:43: SettingWithCopyWarning: \n",
      "A value is trying to be set on a copy of a slice from a DataFrame\n",
      "\n",
      "See the caveats in the documentation: https://pandas.pydata.org/pandas-docs/stable/user_guide/indexing.html#returning-a-view-versus-a-copy\n",
      "  X.fillna(X.median(), inplace=True)\n"
     ]
    }
   ],
   "source": [
    "# Phase 3: Preprocessing with Rare Country Handling — Estonia Dataset\n",
    "\n",
    "import pandas as pd\n",
    "from sklearn.preprocessing import LabelEncoder, StandardScaler\n",
    "import joblib\n",
    "\n",
    "# -----------------------------\n",
    "# Load cleaned dataset\n",
    "# -----------------------------\n",
    "df = pd.read_csv(\"estonia_cleaned.csv\")\n",
    "print(\"✅ Loaded cleaned dataset\")\n",
    "\n",
    "# -----------------------------\n",
    "# Group rare countries as 'Other'\n",
    "# -----------------------------\n",
    "country_counts = df[\"Country\"].value_counts()\n",
    "rare_countries = country_counts[country_counts < 5].index\n",
    "df[\"Country\"] = df[\"Country\"].replace(rare_countries, \"Other\")\n",
    "\n",
    "# -----------------------------\n",
    "# Encode categorical variables\n",
    "# -----------------------------\n",
    "df[\"Sex_encoded\"] = df[\"Sex\"].map({\"Male\": 1, \"Female\": 0}).fillna(1).astype(int)\n",
    "df[\"Category_encoded\"] = df[\"Category\"].map({\"Passenger\": 0, \"Crew\": 1}).fillna(0).astype(int)\n",
    "\n",
    "# Label encode Country\n",
    "country_encoder = LabelEncoder()\n",
    "df[\"Country_encoded\"] = country_encoder.fit_transform(df[\"Country\"])\n",
    "\n",
    "# Save country mapping\n",
    "country_map = dict(zip(country_encoder.classes_, country_encoder.transform(country_encoder.classes_)))\n",
    "\n",
    "# -----------------------------\n",
    "# Select features and target\n",
    "# -----------------------------\n",
    "features = [\"Age\", \"Sex_encoded\", \"Category_encoded\", \"Country_encoded\"]\n",
    "X = df[features]\n",
    "y = df[\"Survived\"]\n",
    "\n",
    "# -----------------------------\n",
    "# Handle missing values\n",
    "# -----------------------------\n",
    "X.fillna(X.median(), inplace=True)\n",
    "\n",
    "# -----------------------------\n",
    "# Scale numerical features\n",
    "# -----------------------------\n",
    "scaler = StandardScaler()\n",
    "X_scaled = scaler.fit_transform(X)\n",
    "X_scaled_df = pd.DataFrame(X_scaled, columns=features)\n",
    "\n",
    "# -----------------------------\n",
    "# Save preprocessed data\n",
    "# -----------------------------\n",
    "X_scaled_df[\"Survived\"] = y.values\n",
    "X_scaled_df.to_csv(\"estonia_preprocessed.csv\", index=False)\n",
    "print(\"✅ Saved preprocessed dataset\")\n",
    "\n",
    "# -----------------------------\n",
    "# Save metadata for app\n",
    "# -----------------------------\n",
    "meta = {\n",
    "    \"defaults\": {\n",
    "        \"Age\": float(df[\"Age\"].median()),\n",
    "        \"Sex_encoded\": 1,\n",
    "        \"Category_encoded\": 0,\n",
    "        \"Country_encoded\": int(X[\"Country_encoded\"].mode()[0])\n",
    "    },\n",
    "    \"country_map\": country_map\n",
    "}\n",
    "\n",
    "joblib.dump(meta, \"preprocess_meta.pkl\")\n",
    "print(\"✅ Saved preprocess metadata as 'preprocess_meta.pkl'\")\n"
   ]
  },
  {
   "cell_type": "code",
   "execution_count": 25,
   "id": "8c0059e5",
   "metadata": {},
   "outputs": [
    {
     "name": "stdout",
     "output_type": "stream",
     "text": [
      "✅ Preprocessed dataset loaded\n"
     ]
    }
   ],
   "source": [
    "# Phase 4: Model Training and Evaluation — Estonia Passenger Dataset\n",
    "# -----------------------------\n",
    "# Task 4.1: Load preprocessed data\n",
    "# -----------------------------\n",
    "df = pd.read_csv(\"estonia_preprocessed.csv\")\n",
    "print(\"✅ Preprocessed dataset loaded\")"
   ]
  },
  {
   "cell_type": "code",
   "execution_count": 26,
   "id": "bfd93461",
   "metadata": {},
   "outputs": [
    {
     "name": "stdout",
     "output_type": "stream",
     "text": [
      "✅ Data split into training and testing sets\n"
     ]
    }
   ],
   "source": [
    "\n",
    "# -----------------------------\n",
    "# Task 4.2: Split features and target\n",
    "# -----------------------------\n",
    "X = df.drop(\"Survived\", axis=1)\n",
    "y = df[\"Survived\"]\n",
    "\n",
    "# Train-test split\n",
    "X_train, X_test, y_train, y_test = train_test_split(X, y, test_size=0.2, random_state=42)\n",
    "print(\"✅ Data split into training and testing sets\")\n"
   ]
  },
  {
   "cell_type": "code",
   "execution_count": 27,
   "id": "7f4501f8",
   "metadata": {},
   "outputs": [],
   "source": [
    "# -----------------------------\n",
    "# Task 4.3: Train models\n",
    "# -----------------------------\n",
    "models = {\n",
    "    \"Logistic Regression\": LogisticRegression(max_iter=1000),\n",
    "    \"Decision Tree\": DecisionTreeClassifier(),\n",
    "    \"Random Forest\": RandomForestClassifier(),\n",
    "    \"Gradient Boosting\": GradientBoostingClassifier()\n",
    "}\n",
    "\n",
    "results = {}\n",
    "\n",
    "for name, model in models.items():\n",
    "    model.fit(X_train, y_train)\n",
    "    y_pred = model.predict(X_test)\n",
    "\n",
    "    results[name] = {\n",
    "        \"Accuracy\": accuracy_score(y_test, y_pred),\n",
    "        \"Precision\": precision_score(y_test, y_pred),\n",
    "        \"Recall\": recall_score(y_test, y_pred),\n",
    "        \"F1 Score\": f1_score(y_test, y_pred),\n",
    "        \"ROC AUC\": roc_auc_score(y_test, y_pred)\n",
    "    }"
   ]
  },
  {
   "cell_type": "code",
   "execution_count": 28,
   "id": "f52c8bb0",
   "metadata": {},
   "outputs": [
    {
     "name": "stdout",
     "output_type": "stream",
     "text": [
      "\n",
      "📊 Model Evaluation Results:\n",
      "\n",
      "Logistic Regression:\n",
      "  Accuracy: 0.86\n",
      "  Precision: 0.00\n",
      "  Recall: 0.00\n",
      "  F1 Score: 0.00\n",
      "  ROC AUC: 0.50\n",
      "\n",
      "Decision Tree:\n",
      "  Accuracy: 0.82\n",
      "  Precision: 0.32\n",
      "  Recall: 0.26\n",
      "  F1 Score: 0.29\n",
      "  ROC AUC: 0.59\n",
      "\n",
      "Random Forest:\n",
      "  Accuracy: 0.82\n",
      "  Precision: 0.32\n",
      "  Recall: 0.26\n",
      "  F1 Score: 0.29\n",
      "  ROC AUC: 0.59\n",
      "\n",
      "Gradient Boosting:\n",
      "  Accuracy: 0.85\n",
      "  Precision: 0.29\n",
      "  Recall: 0.07\n",
      "  F1 Score: 0.12\n",
      "  ROC AUC: 0.52\n"
     ]
    }
   ],
   "source": [
    "# -----------------------------\n",
    "# Task 4.4: Display evaluation results\n",
    "# -----------------------------\n",
    "print(\"\\n📊 Model Evaluation Results:\")\n",
    "for name, metrics in results.items():\n",
    "    print(f\"\\n{name}:\")\n",
    "    for metric, value in metrics.items():\n",
    "        print(f\"  {metric}: {value:.2f}\")\n"
   ]
  },
  {
   "cell_type": "code",
   "execution_count": 29,
   "id": "a983ef4c",
   "metadata": {},
   "outputs": [
    {
     "name": "stdout",
     "output_type": "stream",
     "text": [
      "\n",
      "✅ Best model saved as 'best_model.pkl' (Decision Tree)\n"
     ]
    }
   ],
   "source": [
    "# -----------------------------\n",
    "# Task 4.5: Select and save best model\n",
    "# -----------------------------\n",
    "# Choose best model based on F1 Score\n",
    "best_model_name = max(results, key=lambda x: results[x][\"F1 Score\"])\n",
    "best_model = models[best_model_name]\n",
    "\n",
    "# Save model for Streamlit app\n",
    "joblib.dump(best_model, \"best_model.pkl\")\n",
    "print(f\"\\n✅ Best model saved as 'best_model.pkl' ({best_model_name})\")\n"
   ]
  },
  {
   "cell_type": "code",
   "execution_count": 31,
   "id": "75cadafa",
   "metadata": {},
   "outputs": [
    {
     "name": "stdout",
     "output_type": "stream",
     "text": [
      "✅ Model and data loaded\n"
     ]
    }
   ],
   "source": [
    "# Phase 5: Model Interpretation and Reporting — Estonia Passenger Dataset\n",
    "# -----------------------------\n",
    "# Task 5.1: Load best model and data\n",
    "# -----------------------------\n",
    "model = joblib.load(\"best_model.pkl\")\n",
    "df = pd.read_csv(\"estonia_preprocessed.csv\")\n",
    "\n",
    "X = df.drop(\"Survived\", axis=1)\n",
    "y = df[\"Survived\"]\n",
    "\n",
    "print(\"✅ Model and data loaded\")\n"
   ]
  },
  {
   "cell_type": "code",
   "execution_count": 33,
   "id": "a27308aa",
   "metadata": {},
   "outputs": [
    {
     "name": "stdout",
     "output_type": "stream",
     "text": [
      "\n",
      "📊 Top Features:\n",
      "            Feature  Importance\n",
      "0               Age    0.709282\n",
      "3   Country_encoded    0.112964\n",
      "1       Sex_encoded    0.105916\n",
      "2  Category_encoded    0.071839\n"
     ]
    },
    {
     "name": "stderr",
     "output_type": "stream",
     "text": [
      "C:\\Users\\USER\\AppData\\Local\\Temp\\ipykernel_6908\\2836187275.py:18: FutureWarning: \n",
      "\n",
      "Passing `palette` without assigning `hue` is deprecated and will be removed in v0.14.0. Assign the `y` variable to `hue` and set `legend=False` for the same effect.\n",
      "\n",
      "  sns.barplot(x=\"Importance\", y=\"Feature\", data=importance_df, palette=\"Blues_r\")\n"
     ]
    },
    {
     "data": {
      "image/png": "[encoded data removed]",
      "text/plain": [
       "<Figure size 1000x600 with 1 Axes>"
      ]
     },
     "metadata": {},
     "output_type": "display_data"
    }
   ],
   "source": [
    "\n",
    "# -----------------------------\n",
    "# Task 5.2: Extract feature importance\n",
    "# -----------------------------\n",
    "# Only tree-based models have feature_importances_\n",
    "if hasattr(model, \"feature_importances_\"):\n",
    "    importances = model.feature_importances_\n",
    "    feature_names = X.columns\n",
    "    importance_df = pd.DataFrame({\n",
    "        \"Feature\": feature_names,\n",
    "        \"Importance\": importances\n",
    "    }).sort_values(by=\"Importance\", ascending=False)\n",
    "\n",
    "    print(\"\\n📊 Top Features:\")\n",
    "    print(importance_df.head())\n",
    "\n",
    "    # Plot feature importance\n",
    "    plt.figure(figsize=(10, 6))\n",
    "    sns.barplot(x=\"Importance\", y=\"Feature\", data=importance_df, palette=\"Blues_r\")\n",
    "    plt.title(\"Feature Importance\")\n",
    "    plt.tight_layout()\n",
    "    plt.show()\n",
    "else:\n",
    "    print(\"⚠️ Feature importance not available for this model type.\")\n"
   ]
  }
 ],
 "metadata": {
  "kernelspec": {
   "display_name": "newenv",
   "language": "python",
   "name": "python3"
  },
  "language_info": {
   "codemirror_mode": {
    "name": "ipython",
    "version": 3
   },
   "file_extension": ".py",
   "mimetype": "text/x-python",
   "name": "python",
   "nbconvert_exporter": "python",
   "pygments_lexer": "ipython3",
   "version": "3.11.9"
  }
 },
 "nbformat": 4,
 "nbformat_minor": 5
}
